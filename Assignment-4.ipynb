{
 "cells": [
  {
   "cell_type": "markdown",
   "metadata": {},
   "source": [
    "# 1.1 Write a Python Program(with class concepts) to find the area of the triangle using the below\n",
    "\n",
    "formula.\n",
    "area = (s*(s-a)*(s-b)*(s-c)) ** 0.5\n",
    "# Function to take the length of the sides of triangle from user should be defined in the parent class and function to calculate the area should be defined in subclass."
   ]
  },
  {
   "cell_type": "code",
   "execution_count": 1,
   "metadata": {},
   "outputs": [
    {
     "name": "stdout",
     "output_type": "stream",
     "text": [
      "Area of triangle of sides 9, 8, 7 is :26.8328\n"
     ]
    }
   ],
   "source": [
    "class sides():\n",
    "    def __init__(self, a,b,c):\n",
    "        self.a = a\n",
    "        self.b = b\n",
    "        self.c = c\n",
    "        self.s = (a+b+c)/2\n",
    "    \n",
    "class area(sides):\n",
    "    def __init__ (self, *args):\n",
    "        super (area, self).__init__(*args)\n",
    "        self.tri_area = (self.s * (self.s-self.a) *(self.s-self.b)* (self.s-self.c))**0.5\n",
    "       \n",
    "        \n",
    "    def __str__(self):\n",
    "        return ('Area of triangle of sides ' + str(self.a)+ ', ' + str(self.b)\n",
    "                +', ' + str(self.c) +' is :' + str(round(self.tri_area,4)))\n",
    "    \n",
    "    \n",
    "t1 = area(9,8,7)\n",
    "print(t1)"
   ]
  },
  {
   "cell_type": "code",
   "execution_count": null,
   "metadata": {},
   "outputs": [],
   "source": []
  },
  {
   "cell_type": "markdown",
   "metadata": {},
   "source": [
    "# 1.2 Write a function filter_long_words() that takes a list of words and an integer n and returns the list of words that are longer than n"
   ]
  },
  {
   "cell_type": "code",
   "execution_count": 2,
   "metadata": {},
   "outputs": [
    {
     "name": "stdout",
     "output_type": "stream",
     "text": [
      "['cccc', 'gggggg', 'nkajdjkn']\n"
     ]
    }
   ],
   "source": [
    "def filter_long_words(list, n):\n",
    "    \n",
    "    new = []\n",
    "    \n",
    "    for i in lst:\n",
    "        if type(i) == str:\n",
    "            if len(i) >= n:\n",
    "                new.append(i)\n",
    "        else: \n",
    "            continue \n",
    "    print (new)\n",
    "\n",
    "lst = ['aaa','cccc','ee','gggggg','s', 45,'nkajdjkn']  \n",
    "filter_long_words(lst , 4)"
   ]
  },
  {
   "cell_type": "code",
   "execution_count": null,
   "metadata": {},
   "outputs": [],
   "source": []
  },
  {
   "cell_type": "markdown",
   "metadata": {},
   "source": [
    "# 2.1 Write a Python program using function concept that maps list of words into a list of integers representing the lengths of the corresponding words.\n",
    "Hint: If a list [ ab,cde,erty] is passed on to the python function output should come as [2,3,4]\n",
    "Here 2,3 and 4 are the lengths of the words in the list."
   ]
  },
  {
   "cell_type": "code",
   "execution_count": 3,
   "metadata": {},
   "outputs": [
    {
     "name": "stdout",
     "output_type": "stream",
     "text": [
      "[3, 4, 2, 6, 1, 8]\n"
     ]
    }
   ],
   "source": [
    "def converter(lst):\n",
    "    \n",
    "    n = []\n",
    "    \n",
    "    for i in lst:\n",
    "        if type(i) == str:\n",
    "            n.append(len(i))\n",
    "        \n",
    "    print (n)\n",
    "    \n",
    "    \n",
    "    \n",
    "q = ['aaa','cccc','ee','gggggg',56,'s','nkajdjkn']\n",
    "converter(q)"
   ]
  },
  {
   "cell_type": "code",
   "execution_count": null,
   "metadata": {},
   "outputs": [],
   "source": []
  },
  {
   "cell_type": "markdown",
   "metadata": {},
   "source": [
    "# 2.2 Write a Python function which takes a character (i.e. a string of length 1) and returns True if it is a vowel, False otherwise"
   ]
  },
  {
   "cell_type": "code",
   "execution_count": 8,
   "metadata": {},
   "outputs": [
    {
     "data": {
      "text/plain": [
       "False"
      ]
     },
     "execution_count": 8,
     "metadata": {},
     "output_type": "execute_result"
    }
   ],
   "source": [
    "def ovel_check(w):\n",
    "    \n",
    "    for i in ['A','E','I','O','U']:\n",
    "        if  i == (w[0]).upper():\n",
    "            return True \n",
    "         \n",
    "    else :\n",
    "        return False \n",
    "       \n",
    "            \n",
    "ovel_check('Sachin')"
   ]
  },
  {
   "cell_type": "code",
   "execution_count": null,
   "metadata": {},
   "outputs": [],
   "source": []
  },
  {
   "cell_type": "code",
   "execution_count": null,
   "metadata": {},
   "outputs": [],
   "source": []
  }
 ],
 "metadata": {
  "kernelspec": {
   "display_name": "Python 3",
   "language": "python",
   "name": "python3"
  },
  "language_info": {
   "codemirror_mode": {
    "name": "ipython",
    "version": 3
   },
   "file_extension": ".py",
   "mimetype": "text/x-python",
   "name": "python",
   "nbconvert_exporter": "python",
   "pygments_lexer": "ipython3",
   "version": "3.8.3"
  }
 },
 "nbformat": 4,
 "nbformat_minor": 4
}
